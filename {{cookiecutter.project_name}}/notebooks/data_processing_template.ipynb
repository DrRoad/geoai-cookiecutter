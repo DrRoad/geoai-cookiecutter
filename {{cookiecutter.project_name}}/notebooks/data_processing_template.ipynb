{
 "cells": [
  {
   "cell_type": "markdown",
   "metadata": {},
   "source": [
    "# Data Processing Template\n",
    "\n",
    "Since almost without exception the first step is working with data munging, this notebook is stubbed out with a very select few imports to speed up the initial steps following creating a project and copying in raw data.\n",
    "\n",
    "It is highly recommended you copy and rename this notebook following the naming convention outlined in the readme of naming notebooks with a double number such as `01_first_thing`, and `02_next_thing`. This way the order of notebooks is apparent, and each notebook does not need to be needlesssly long, complex, and difficult to follow."
   ]
  },
  {
   "cell_type": "code",
   "execution_count": null,
   "metadata": {},
   "outputs": [],
   "source": [
    "import importlib\n",
    "from pathlib import Path\n",
    "import sys\n",
    "\n",
    "from arcgis.features import GeoAccessor\n",
    "import pandas as pd\n",
    "\n",
    "# import arcpy if available\n",
    "if importlib.util.find_spec(\"arcpy\") is not None:\n",
    "    import arcpy"
   ]
  },
  {
   "cell_type": "code",
   "execution_count": null,
   "metadata": {},
   "outputs": [],
   "source": [
    "# a couple of handy variables and settings to get started\n",
    "# note: to convert any path to a raw string, simply use str(path_instance)\n",
    "project_parent = Path('./').absolute().parent\n",
    "\n",
    "data = project_parent/'data'\n",
    "data_raw = data/'raw'\n",
    "data_ext = data/'external'\n",
    "data_int = data/'interim'\n",
    "data_out = data/'processed'\n",
    "\n",
    "gdb_raw = data_raw/'raw.gdb'\n",
    "gdb_int = data_int/'interim.gdb'\n",
    "\n",
    "# also enable import of the project package\n",
    "sys.path.append(str(project_parent/'src'))\n",
    "import {{ cookiecutter.support_library }}"
   ]
  },
  {
   "cell_type": "code",
   "execution_count": null,
   "metadata": {},
   "outputs": [],
   "source": []
  }
 ],
 "metadata": {
  "kernelspec": {
   "display_name": "Python 3",
   "language": "python",
   "name": "python3"
  },
  "language_info": {
   "codemirror_mode": {
    "name": "ipython",
    "version": 3
   },
   "file_extension": ".py",
   "mimetype": "text/x-python",
   "name": "python",
   "nbconvert_exporter": "python",
   "pygments_lexer": "ipython3",
   "version": "3.6.9"
  }
 },
 "nbformat": 4,
 "nbformat_minor": 4
}
